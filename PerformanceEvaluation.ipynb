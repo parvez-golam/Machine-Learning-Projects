{
 "cells": [
  {
   "cell_type": "markdown",
   "metadata": {},
   "source": [
    "### Web Scraping and Performance evaluation of Text Classification Algortihms"
   ]
  },
  {
   "cell_type": "code",
   "execution_count": 240,
   "metadata": {},
   "outputs": [],
   "source": [
    "# import the required libraries\n",
    "import requests\n",
    "from bs4 import BeautifulSoup\n",
    "import pandas as pd\n",
    "import nltk\n",
    "from sklearn.feature_extraction.text import TfidfVectorizer\n",
    "from sklearn.model_selection import train_test_split\n",
    "from sklearn.linear_model import LogisticRegression\n",
    "from sklearn.metrics import *\n",
    "from sklearn.metrics import confusion_matrix\n",
    "import seaborn as sn\n",
    "import matplotlib.pyplot as plt\n",
    "from sklearn.ensemble import RandomForestClassifier\n",
    "from sklearn.naive_bayes import MultinomialNB\n",
    "from sklearn.model_selection import cross_validate\n",
    "from sklearn.metrics import make_scorer"
   ]
  },
  {
   "cell_type": "markdown",
   "metadata": {},
   "source": [
    "#### The objective of this assignment is to scrape consumer reviews from a set of web-pages and to evaluate the performance of text classification algorithms on the data.\n",
    "\n",
    "#### Task 1: \n",
    "Select three review categories of your choice. Scrape all reviews for each category and store them as three separate datasets. For each review, you should store the review text and a class label (i.e. whether the review is “positive” or “negative”)."
   ]
  },
  {
   "cell_type": "markdown",
   "metadata": {},
   "source": [
    "I have selected three categories: restaurant, cafe and hotels to scrape consumer reviews and ratings. Then evaluate the performance of text classification algorithms on the data extracted from these categories.\n",
    "\n",
    "Each category page has links for consumer reviews and ratings. First, retrieving all the href tags from the category page, second, extracting reviews and ratings from those links.\n",
    "\n",
    "BeautifulSoup package is used for the web scraping. Scraping all the href tags which are inside anchor tags of page, and storing them in separate lists for each category.\n"
   ]
  },
  {
   "cell_type": "code",
   "execution_count": 241,
   "metadata": {},
   "outputs": [],
   "source": [
    "homeurl = 'http://mlg.ucc.ie/modules/yalp/'\n",
    "# Fetch Restaurants, cafe and hotel links.\n",
    "res_url = 'http://mlg.ucc.ie/modules/yalp/restaurants_list.html'\n",
    "res_urls = []\n",
    "# Response object to get the webpage.\n",
    "response = requests.get(res_url)\n",
    "\n",
    "# Data contains the source code of the webpage.\n",
    "data = response.text\n",
    "\n",
    "# Parsing the source code\n",
    "soup = BeautifulSoup(data, 'html.parser')\n",
    "# Extract the URLs for all the restaurants\n",
    "res_urls =[homeurl+ item.get(\"href\") for item in soup.find_all(\"a\")]\n",
    "#print(res_urls)\n",
    "\n",
    "\n",
    "cafe_url = 'http://mlg.ucc.ie/modules/yalp/cafes_list.html'\n",
    "cafe_urls = []\n",
    "# Response object to get the webpage.\n",
    "response = requests.get(cafe_url)\n",
    "\n",
    "# Data contains the source code of the webpage.\n",
    "data = response.text\n",
    "\n",
    "# Parsing the source code\n",
    "soup = BeautifulSoup(data, 'html.parser')\n",
    "# Extract the URLs for all the cafes\n",
    "cafe_urls =[homeurl+ item.get(\"href\") for item in soup.find_all(\"a\")]\n",
    "\n",
    "\n",
    "hotel_url = 'http://mlg.ucc.ie/modules/yalp/hotels_list.html'\n",
    "hotel_urls = []\n",
    "# Response object to get the webpage.\n",
    "response = requests.get(hotel_url)\n",
    "\n",
    "# Data contains the source code of the webpage.\n",
    "data = response.text\n",
    "\n",
    "# Parsing the source code\n",
    "soup = BeautifulSoup(data, 'html.parser')\n",
    "# Extract the URLs for all the cafes\n",
    "hotel_urls =[homeurl+ item.get(\"href\") for item in soup.find_all(\"a\")]\n"
   ]
  },
  {
   "cell_type": "markdown",
   "metadata": {},
   "source": [
    "#### Extracting the reviews and ratings for each category\n",
    "The function reviewRatings is created to fetch the reviews and ratings from each category and store them in a list.\n",
    "Each review has a star rating. For this assignment, we will assume that 1-star to 3-star reviews are “negative”, and 4-star to 5-star reviews are “positive”."
   ]
  },
  {
   "cell_type": "code",
   "execution_count": 242,
   "metadata": {},
   "outputs": [],
   "source": [
    "def reviewRatings (urls):\n",
    "   \n",
    "   # Stores the final reviews along with the ratings.\n",
    "    reviews_ratings = []\n",
    "    # List for the reviews.\n",
    "    reviews_list = []\n",
    "    # List for the ratings of each reviews.\n",
    "    ratings_list = []\n",
    "   \n",
    "    for url in urls:\n",
    "        if 'index' in url:\n",
    "            pass\n",
    "       \n",
    "       # retrieve the data from the specified base url.\n",
    "        data = requests.get(url)\n",
    "       \n",
    "       # scrape the contents of the web page\n",
    "        review_scraper = BeautifulSoup(data.content,'html.parser')\n",
    "       \n",
    "       # extract a particular class inside a tag\n",
    "        cat_reviews = review_scraper.find_all('p',{\"class\":\"review-text\"})\n",
    "        for review in cat_reviews:\n",
    "            reviews_list.append(review.text) # extracting only the text for the review\n",
    "           \n",
    "        # Ratings exists in alt tag of the img tags.\n",
    "        ratings = review_scraper.find_all('img',alt=True)    \n",
    "       \n",
    "        for rating in ratings:\n",
    "            # if rating is less than 3: The review will be Negative.\n",
    "            if int(rating.get('alt')[0])<=3:\n",
    "                ratings_list.append('negative')\n",
    "           \n",
    "           # if rating is greater than 3: The review will be Positive.\n",
    "            else:\n",
    "                ratings_list.append('positive')\n",
    "      # Dictionary of Reviews and Ratings\n",
    "        dict_res = {'Reviews': reviews_list,'Label':ratings_list}\n",
    "    \n",
    "    # Convert the Reviews and Ratings to a dataframe and append to list\n",
    "    reviews_ratings.append(pd.DataFrame(dict_res))\n",
    "    \n",
    "    return reviews_ratings"
   ]
  },
  {
   "cell_type": "markdown",
   "metadata": {},
   "source": [
    "#### Store the reviews in csv files\n",
    "Finally storing the reviews and ratings for each of three categories into three different csv files."
   ]
  },
  {
   "cell_type": "code",
   "execution_count": 243,
   "metadata": {},
   "outputs": [],
   "source": [
    "res_reviews_ratings = reviewRatings(res_urls) \n",
    "# Storing the reviews and their ratings in a csv.\n",
    "res_result = pd.concat(res_reviews_ratings)   \n",
    "res_result.to_csv('./ResReviews.csv', index = False)\n",
    "\n",
    "cafe_reviews_ratings = reviewRatings(cafe_urls) \n",
    "# Storing the reviews and their ratings in a csv.\n",
    "cafe_result = pd.concat(cafe_reviews_ratings)   \n",
    "cafe_result.to_csv('./CafeReviews.csv', index = False)\n",
    "\n",
    "hotel_reviews_ratings = reviewRatings(hotel_urls) \n",
    "# Storing the reviews and their ratings in a csv.\n",
    "hotel_result = pd.concat(hotel_reviews_ratings)   \n",
    "hotel_result.to_csv('./HotelReviews.csv', index = False)"
   ]
  },
  {
   "cell_type": "code",
   "execution_count": 244,
   "metadata": {},
   "outputs": [
    {
     "name": "stdout",
     "output_type": "stream",
     "text": [
      "                                             Reviews     Label\n",
      "0  My husband and I had a rare afternoon off so w...  negative\n",
      "1  For years I thought this was only a wine store...  positive\n",
      "2  This place is so charming! I went with my husb...  positive\n",
      "3  We have been wanting to try this place for a c...  positive\n",
      "4  Decor looks ok but layout is too busy. Difficu...  negative\n",
      "                                             Reviews     Label\n",
      "0  Pros: Lots of items you would not expect from ...  positive\n",
      "1  Best egg-tarts in town! There's really not muc...  positive\n",
      "2  I've been to ABC Bakery a few times since I re...  negative\n",
      "3  FYI, Closed Monday's New ownership for about 1...  negative\n",
      "4  The inside may not look like much but they mak...  positive\n",
      "                                             Reviews     Label\n",
      "0  Melissa took us on a tour of Asia in the space...  positive\n",
      "1  With a group of seven of us visiting Montreal ...  positive\n",
      "2  Melissa is a gem! My fiancé found her tour on ...  positive\n",
      "3  A perfect day in Montreal! Melissa outfitted u...  positive\n",
      "4  I had a really great food truck tour with Meli...  positive\n"
     ]
    }
   ],
   "source": [
    "# Read the Restaurants dataset\n",
    "res_df = pd.read_csv('./ResReviews.csv')\n",
    "print(res_df.head())\n",
    "\n",
    "# Read the Cafe dataset\n",
    "cafe_df = pd.read_csv('./CafeReviews.csv')\n",
    "print(cafe_df.head())\n",
    "\n",
    "# Read the Hotels dataset\n",
    "hotel_df = pd.read_csv('./HotelReviews.csv')\n",
    "print(hotel_df.head())"
   ]
  },
  {
   "cell_type": "markdown",
   "metadata": {},
   "source": [
    "#### Task 2a) \n",
    "From the reviews in this category, apply appropriate preprocessing steps to create a numeric representation of the data, suitable for classification.\n",
    "\n",
    "1. Normalizing the text into a single canonical form.\n",
    "2. Lemmatize to convert the words to its base form, using lemmatization because stemming a word or sentence may result in words that are not actual words. Stems are created by removing the suffixes or prefixes used with a word.\n",
    "3. Stop Word removal to remove useless words from the text to improve the search query processing time.\n",
    "4. Term Frequency – Inverse Document Frequency to compute word frequencies to highlight which words are more interesting."
   ]
  },
  {
   "cell_type": "markdown",
   "metadata": {},
   "source": [
    "#### Normalization"
   ]
  },
  {
   "cell_type": "code",
   "execution_count": 245,
   "metadata": {},
   "outputs": [],
   "source": [
    "# Removing the whitespaces and converting each review to lowercase.\n",
    "res_df['Reviews'] = [item.strip().lower() for item in res_df['Reviews']]\n",
    "\n",
    "cafe_df['Reviews'] = [item.strip().lower() for item in cafe_df['Reviews']]\n",
    "\n",
    "hotel_df['Reviews'] = [item.strip().lower() for item in hotel_df['Reviews']]"
   ]
  },
  {
   "cell_type": "markdown",
   "metadata": {},
   "source": [
    "#### Lemmatization"
   ]
  },
  {
   "cell_type": "code",
   "execution_count": 246,
   "metadata": {},
   "outputs": [],
   "source": [
    "# WordNetLemmatizer() from nltk\n",
    "lemmatizer = nltk.stem.WordNetLemmatizer()\n",
    "\n",
    "# Function to lemmatize the text.\n",
    "def lemmatizetext(text):\n",
    "    return lemmatizer.lemmatize(text)\n",
    "\n",
    "# Invoke the lemmatizetext function for Reviews of each dataframe.\n",
    "res_df['Reviews'] = res_df.Reviews.apply(lemmatizetext)\n",
    "\n",
    "cafe_df['Reviews'] = cafe_df.Reviews.apply(lemmatizetext)\n",
    "\n",
    "hotel_df['Reviews'] = hotel_df.Reviews.apply(lemmatizetext)\n"
   ]
  },
  {
   "cell_type": "markdown",
   "metadata": {},
   "source": [
    "#### TDF-IDF Vectorizer and stop word removal\n",
    "\n",
    "Computing the TDF-IDF scores for the words in the reviews after removing the stop words to change the reviews into a numerical data representation. Storing these frequency scores and the ratings in a new data frame for each category.\n"
   ]
  },
  {
   "cell_type": "code",
   "execution_count": 247,
   "metadata": {},
   "outputs": [
    {
     "name": "stdout",
     "output_type": "stream",
     "text": [
      "(2000, 868)\n",
      "(2000, 860)\n",
      "(2000, 1003)\n"
     ]
    }
   ],
   "source": [
    "# TF-IDF Vectorizer object to remove the stop words, fit and transform the reviews.\n",
    "tfidf_vectorizer = TfidfVectorizer(max_df=0.5,min_df=0.01,stop_words='english',use_idf=True)\n",
    "\n",
    "tfidf_matrix = tfidf_vectorizer.fit_transform(res_df['Reviews'])\n",
    "terms = tfidf_vectorizer.get_feature_names()\n",
    "\n",
    "# Dataframe with column names as the features from the vectorised object.\n",
    "resRevdf = pd.DataFrame(tfidf_matrix.todense(), columns = terms)\n",
    "resRevdf['Label'] = res_df['Label']\n",
    "print(resRevdf.shape)\n",
    "\n",
    "\n",
    "tfidf_matrix = tfidf_vectorizer.fit_transform(cafe_df['Reviews'])\n",
    "terms = tfidf_vectorizer.get_feature_names()\n",
    "\n",
    "# Dataframe with column names as the features from the vectorised object.\n",
    "cafeRevdf = pd.DataFrame(tfidf_matrix.todense(), columns = terms)\n",
    "cafeRevdf['Label'] = cafe_df['Label']\n",
    "print(cafeRevdf.shape)\n",
    "\n",
    "\n",
    "tfidf_matrix = tfidf_vectorizer.fit_transform(hotel_df['Reviews'])\n",
    "terms = tfidf_vectorizer.get_feature_names()\n",
    "\n",
    "# Dataframe with column names as the features from the vectorised object.\n",
    "hotelRevdf = pd.DataFrame(tfidf_matrix.todense(), columns = terms)\n",
    "hotelRevdf['Label'] = hotel_df['Label']\n",
    "print(hotelRevdf.shape)\n"
   ]
  },
  {
   "cell_type": "markdown",
   "metadata": {},
   "source": [
    "#### Task 2b)\n",
    "Build a classification model to distinguish between “positive” and “negative” reviews using one of the following classifiers:\n",
    "Naive Bayes, Logistic Regression, Random Forests"
   ]
  },
  {
   "cell_type": "markdown",
   "metadata": {},
   "source": [
    "#### Using Cross Validation to determine which classifier has the best accuracy for each category\n",
    "Cross Validation is a technique to measure the effectiveness of different machine learning models. Thus, using this technique here to assess the effectiveness of NaiveBaye's, Logistic Regression and RandomForest Classifer models.\n",
    "1. Here we split the entire data randomly into k folds, k=10 in this case.\n",
    "2. Then fitting the model using the K — 1 folds and validate the model using the remaining Kth fold.\n",
    "3. Repeating this process until every K-fold serves as the test set. Then taking the average of the recorded accuracy scores. This average accuracy score will be the performance metric for each of the above mentioned model."
   ]
  },
  {
   "cell_type": "code",
   "execution_count": 248,
   "metadata": {},
   "outputs": [],
   "source": [
    "def cv_accuracy(df):\n",
    "\n",
    "    model_d = {}\n",
    "\n",
    "    model_d['rf'] = RandomForestClassifier(max_depth=2, random_state=0)\n",
    "    model_d['mnb'] = MultinomialNB()\n",
    "    model_d['logistic'] = LogisticRegression(max_iter=1000, solver = 'sag', random_state=0)\n",
    "\n",
    "    scoring = {'accuracy': make_scorer(accuracy_score)}\n",
    "\n",
    "    accuracy = []\n",
    "    for m in model_d:\n",
    "        cv_results = cross_validate(model_d[m],df.iloc[:,:-1], df.iloc[:,-1], cv= 10,scoring=scoring, return_train_score=False,\n",
    "                                       verbose = 0, n_jobs = -1)\n",
    "        accuracy.append(cv_results['test_accuracy'].mean())\n",
    "        print(\"{} x CV {:22} Acc: {:.2f}\".format(10, type(model_d[m]).__name__, cv_results['test_accuracy'].mean()))\n",
    "\n",
    "\n",
    "    classifier = ['RandomForest', 'NaiveBayes', 'LogisticRegression']\n",
    "    fig, ax = plt.subplots()\n",
    "\n",
    "    bar1 = ax.barh(classifier, acc, color = ['Green'])\n",
    "\n",
    "    plt.title('Title')\n",
    "    plt.ylabel('Accuracy')\n",
    "    plt.xlabel('Classifier')\n",
    "    plt.show()"
   ]
  },
  {
   "cell_type": "markdown",
   "metadata": {},
   "source": [
    "#### Determine the best classification model for the restaurants category\n",
    "Using the cv_accuracy function above to find the most effective classifier for the restaurant dataset. We can see that Logistic Regression has the highest accuracy, therefore using Logistic Regression as the classifier for further classifying and evaluating the performance of the classifier model on the restaurant dataset."
   ]
  },
  {
   "cell_type": "code",
   "execution_count": 249,
   "metadata": {},
   "outputs": [
    {
     "name": "stdout",
     "output_type": "stream",
     "text": [
      "10 x CV RandomForestClassifier Acc: 0.62\n",
      "10 x CV MultinomialNB          Acc: 0.84\n",
      "10 x CV LogisticRegression     Acc: 0.85\n"
     ]
    },
    {
     "data": {
      "image/png": "[encoded data removed]",
      "text/plain": [
       "<Figure size 432x288 with 1 Axes>"
      ]
     },
     "metadata": {},
     "output_type": "display_data"
    }
   ],
   "source": [
    "cv_accuracy(resRevdf)"
   ]
  },
  {
   "cell_type": "markdown",
   "metadata": {},
   "source": [
    "#### Building a Logistic Regression classifier. Training the data and predicting the target."
   ]
  },
  {
   "cell_type": "code",
   "execution_count": 250,
   "metadata": {},
   "outputs": [],
   "source": [
    "# Splitting the dataset in training and testing dataset for Restaurant category.\n",
    "\n",
    "X_resTrain, X_resTest,Y_resTrain, Y_resTest = train_test_split(resRevdf.iloc[:,:-1], resRevdf.iloc[:,-1], test_size = 0.3)\n",
    "\n",
    "# Logistic Regression Classifier.\n",
    "res_reg = LogisticRegression()\n",
    "\n",
    "# Fitting the model\n",
    "res_reg.fit(X_resTrain, Y_resTrain)\n",
    "\n",
    "# Predicting the target for Restaurant category.\n",
    "Y_res_pred = res_reg.predict(X_resTest)\n"
   ]
  },
  {
   "cell_type": "markdown",
   "metadata": {},
   "source": [
    "#### Task 2c)\n",
    "Test the predictions of the classification model using an appropriate evaluation strategy. Report and discuss the evaluation results in your notebook.\n",
    "\n",
    "We can see from above that this is a binary classification problem where the target is positive or negative. Confusion matrix gives you a more complete picture of how your classifier is performing. The confusion matrix produces four outcomes – true positives, true negatives, false positives and false negatives. Accuracy can be misleading and sometimes it may be desirable to select a model with a lower accuracy because it has a greater predictive power on the problem. Therefore, confusion matrix is a better option as it gives insight into the predictions."
   ]
  },
  {
   "cell_type": "markdown",
   "metadata": {},
   "source": [
    "#### 2c.1 Evaluation strategy for the classification model for Restaurant category dataset\n",
    "\n",
    "The confusion matrix gives us the total number of:\n",
    "1. True Positive(TP): 187 correct predictions of positive reviews.\n",
    "2. False Negative(FN): 71 positive reviews falsely identified as negative reviews.\n",
    "3. False Positive(FP): 56 negative reviews incorrectly identified as positive reviews.\n",
    "4. True Negative(TN): 321 negative reviews correctly identified.\n",
    "\n",
    "We can see that FNs and FPs as quite low in number, that is when classifier falsely predicted the class labels. And the correct predictions TP and TN are quite high.Therefore, we can say the overall performance of the model is good. "
   ]
  },
  {
   "cell_type": "code",
   "execution_count": 254,
   "metadata": {},
   "outputs": [
    {
     "name": "stdout",
     "output_type": "stream",
     "text": [
      "              precision    recall  f1-score   support\n",
      "\n",
      "    positive       0.90      0.72      0.80       258\n",
      "    negative       0.82      0.94      0.87       342\n",
      "\n",
      "    accuracy                           0.85       600\n",
      "   macro avg       0.86      0.83      0.84       600\n",
      "weighted avg       0.85      0.85      0.84       600\n",
      "\n"
     ]
    },
    {
     "data": {
      "image/png": "[encoded data removed]",
      "text/plain": [
       "<Figure size 432x288 with 1 Axes>"
      ]
     },
     "metadata": {},
     "output_type": "display_data"
    }
   ],
   "source": [
    "# Confusion matrix for the Restaurant dataset\n",
    "cm = confusion_matrix(Y_resTest, Y_res_pred)\n",
    "print(classification_report(Y_resTest, Y_res_pred, target_names=[\"positive\",\"negative\"]))\n",
    "fig, ax = plt.subplots(figsize=(6,4))\n",
    "sn.heatmap(cm, annot=True, cbar = False, fmt = 'd', annot_kws= {'size':16}, cmap= 'Greens')\n",
    "sn.set(font_scale= 1.5)\n",
    "# Align the text in middle.\n",
    "bottom,top = ax.get_ylim()\n",
    "ax.set_ylim(bottom +0.5, top - 0.5)\n",
    "\n",
    "# Assign labels to X and Y axis.\n",
    "#xaxis ticks\n",
    "ax.xaxis.set_ticklabels([\"positive\",\"negative\"], fontsize=12)\n",
    "#yaxis ticks\n",
    "ax.yaxis.set_ticklabels([\"positive\",\"negative\"], fontsize=12)\n",
    "plt.ylabel('Actual')\n",
    "plt.xlabel('Predicted')\n",
    "plt.show()"
   ]
  },
  {
   "cell_type": "markdown",
   "metadata": {},
   "source": [
    "#### Determine the best classification model for the Cafe category\n",
    "Using the cv_accuracy function above to find the most effective classifier for the cafe dataset. We can see that Logistic Regression has the highest accuracy, therefore using Logistic Regression as the classifier for further classifying and evaluating the performance of the classifier model on the cafe dataset."
   ]
  },
  {
   "cell_type": "code",
   "execution_count": 282,
   "metadata": {},
   "outputs": [
    {
     "name": "stdout",
     "output_type": "stream",
     "text": [
      "10 x CV RandomForestClassifier Acc: 0.73\n",
      "10 x CV MultinomialNB          Acc: 0.84\n",
      "10 x CV LogisticRegression     Acc: 0.85\n"
     ]
    },
    {
     "data": {
      "image/png": "[encoded data removed]",
      "text/plain": [
       "<Figure size 432x288 with 1 Axes>"
      ]
     },
     "metadata": {},
     "output_type": "display_data"
    }
   ],
   "source": [
    "cv_accuracy(cafeRevdf)"
   ]
  },
  {
   "cell_type": "markdown",
   "metadata": {},
   "source": [
    "#### Building a Logistic Regression classifier. Training the data and predicting the target."
   ]
  },
  {
   "cell_type": "code",
   "execution_count": 255,
   "metadata": {},
   "outputs": [],
   "source": [
    "# Splitting the dataset in training and testing dataset for cafe category.\n",
    "\n",
    "X_cafeTrain, X_cafeTest,Y_cafeTrain, Y_cafeTest = train_test_split(cafeRevdf.iloc[:,:-1], cafeRevdf.iloc[:,-1], test_size = 0.3)\n",
    "\n",
    "# Logistic Regression Classifier.\n",
    "cafe_reg = LogisticRegression()\n",
    "\n",
    "# Fitting the model\n",
    "cafe_reg.fit(X_cafeTrain, Y_cafeTrain)\n",
    "\n",
    "# Predicting the target for Cafe category.\n",
    "Y_cafe_pred = cafe_reg.predict(X_cafeTest)"
   ]
  },
  {
   "cell_type": "markdown",
   "metadata": {},
   "source": [
    "#### 2c.2 Evaluation strategy for the classification model for Cafe category dataset\n",
    "\n",
    "The confusion matrix gives us the total number of:\n",
    "1. True Positive(TP): 74 correct predictions of positive reviews.\n",
    "2. False Negative(FN): 77 positive reviews falsely identified as negative reviews.\n",
    "3. False Positive(FP): 17 negative reviews incorrectly identified as positive reviews.\n",
    "4. True Negative(TN): 432 negative reviews correctly identified.\n",
    "\n",
    "We can see that FNs and FPs as quite low in number, that is when classifier falsely predicted the class labels. And the correct predictions TP is lower, thus its f1-score is also lower, but TN is quite high.Therefore, we can say the overall performance of the model is good as the number of total correct predictions is high."
   ]
  },
  {
   "cell_type": "code",
   "execution_count": 256,
   "metadata": {},
   "outputs": [
    {
     "name": "stdout",
     "output_type": "stream",
     "text": [
      "              precision    recall  f1-score   support\n",
      "\n",
      "    positive       0.81      0.49      0.61       151\n",
      "    negative       0.85      0.96      0.90       449\n",
      "\n",
      "    accuracy                           0.84       600\n",
      "   macro avg       0.83      0.73      0.76       600\n",
      "weighted avg       0.84      0.84      0.83       600\n",
      "\n"
     ]
    },
    {
     "data": {
      "image/png": "[encoded data removed]",
      "text/plain": [
       "<Figure size 432x288 with 1 Axes>"
      ]
     },
     "metadata": {},
     "output_type": "display_data"
    }
   ],
   "source": [
    "# Confusion matrix for the Cafe dataset\n",
    "cm = confusion_matrix(Y_cafeTest, Y_cafe_pred)\n",
    "print(classification_report(Y_cafeTest, Y_cafe_pred, target_names=[\"positive\",\"negative\"]))\n",
    "fig, ax = plt.subplots(figsize=(6,4))\n",
    "sn.heatmap(cm, annot=True, cbar = False, fmt = 'd', annot_kws= {'size':16}, cmap= 'Greens')\n",
    "sn.set(font_scale= 1.5)\n",
    "# Align the text in middle.\n",
    "bottom,top = ax.get_ylim()\n",
    "ax.set_ylim(bottom +0.5, top - 0.5)\n",
    "\n",
    "# Assign labels to X and Y axis.\n",
    "#xaxis ticks\n",
    "ax.xaxis.set_ticklabels([\"positive\",\"negative\"], fontsize=12)\n",
    "#yaxis ticks\n",
    "ax.yaxis.set_ticklabels([\"positive\",\"negative\"], fontsize=12)\n",
    "plt.ylabel('Actual')\n",
    "plt.xlabel('Predicted')\n",
    "plt.show()"
   ]
  },
  {
   "cell_type": "markdown",
   "metadata": {},
   "source": [
    "#### Determine the best classification model for the Hotel category\n",
    "Using the cv_accuracy function above to find the most effective classifier for the Hotel dataset. We can see that Logistic Regression has the highest accuracy, therefore using Logistic Regression as the classifier for further classifying and evaluating the performance of the classifier model on the Hotel dataset."
   ]
  },
  {
   "cell_type": "code",
   "execution_count": 257,
   "metadata": {},
   "outputs": [
    {
     "name": "stdout",
     "output_type": "stream",
     "text": [
      "10 x CV RandomForestClassifier Acc: 0.64\n",
      "10 x CV MultinomialNB          Acc: 0.88\n",
      "10 x CV LogisticRegression     Acc: 0.89\n"
     ]
    },
    {
     "data": {
      "image/png": "[encoded data removed]",
      "text/plain": [
       "<Figure size 432x288 with 1 Axes>"
      ]
     },
     "metadata": {},
     "output_type": "display_data"
    }
   ],
   "source": [
    "cv_accuracy(hotelRevdf)"
   ]
  },
  {
   "cell_type": "markdown",
   "metadata": {},
   "source": [
    "#### Building a Logistic Regression classifier. Training the data and predicting the target."
   ]
  },
  {
   "cell_type": "code",
   "execution_count": 258,
   "metadata": {},
   "outputs": [],
   "source": [
    "# Splitting the dataset in training and testing dataset for Hotel category.\n",
    "\n",
    "X_hotelTrain, X_hotelTest,Y_hotelTrain, Y_hotelTest = train_test_split(hotelRevdf.iloc[:,:-1], hotelRevdf.iloc[:,-1], test_size = 0.3)\n",
    "\n",
    "# Logistic Regression Classifier.\n",
    "hotel_reg = LogisticRegression()\n",
    "\n",
    "# Fitting the model\n",
    "hotel_reg.fit(X_hotelTrain, Y_hotelTrain)\n",
    "\n",
    "# Predicting the target for Hotel category.\n",
    "Y_hotel_pred = hotel_reg.predict(X_hotelTest)"
   ]
  },
  {
   "cell_type": "markdown",
   "metadata": {},
   "source": [
    "#### 2c.3 Evaluation strategy for the classification model for Hotel category dataset\n",
    "\n",
    "The confusion matrix gives us the total number of:\n",
    "1. True Positive(TP): 207 correct predictions of positive reviews.\n",
    "2. False Negative(FN): 40 positive reviews falsely identified as negative reviews.\n",
    "3. False Positive(FP): 23 negative reviews incorrectly identified as positive reviews.\n",
    "4. True Negative(TN): 330 negative reviews correctly identified.\n",
    "\n",
    "We can see that FNs and FPs as quite low in number, that is when classifier falsely predicted the class labels. And the correct predictions TP and TN are quite high.Therefore, we can say the overall performance of the model is good."
   ]
  },
  {
   "cell_type": "code",
   "execution_count": 260,
   "metadata": {},
   "outputs": [
    {
     "name": "stdout",
     "output_type": "stream",
     "text": [
      "              precision    recall  f1-score   support\n",
      "\n",
      "    positive       0.90      0.84      0.87       247\n",
      "    negative       0.89      0.93      0.91       353\n",
      "\n",
      "    accuracy                           0.90       600\n",
      "   macro avg       0.90      0.89      0.89       600\n",
      "weighted avg       0.90      0.90      0.89       600\n",
      "\n"
     ]
    },
    {
     "data": {
      "image/png": "[encoded data removed]",
      "text/plain": [
       "<Figure size 432x288 with 1 Axes>"
      ]
     },
     "metadata": {},
     "output_type": "display_data"
    }
   ],
   "source": [
    "# Confusion matrix for the Hotel dataset\n",
    "cm = confusion_matrix(Y_hotelTest, Y_hotel_pred)\n",
    "print(classification_report(Y_hotelTest, Y_hotel_pred, target_names=[\"positive\",\"negative\"]))\n",
    "fig, ax = plt.subplots(figsize=(6,4))\n",
    "sn.heatmap(cm, annot=True, cbar = False, fmt = 'd', annot_kws= {'size':16}, cmap= 'Greens')\n",
    "sn.set(font_scale= 1.5)\n",
    "# Align the text in middle.\n",
    "bottom,top = ax.get_ylim()\n",
    "ax.set_ylim(bottom +0.5, top - 0.5)\n",
    "\n",
    "# Assign labels to X and Y axis.\n",
    "#xaxis ticks\n",
    "ax.xaxis.set_ticklabels([\"positive\",\"negative\"], fontsize=12)\n",
    "#yaxis ticks\n",
    "ax.yaxis.set_ticklabels([\"positive\",\"negative\"], fontsize=12)\n",
    "plt.ylabel('Actual')\n",
    "plt.xlabel('Predicted')\n",
    "plt.show()"
   ]
  },
  {
   "cell_type": "markdown",
   "metadata": {},
   "source": [
    "#### Conclusion for Task 2\n",
    "Logistic regression is a very powerful algorithm, even for very complex problems it may do a good job.\n",
    "It is a widely used technique because it is very efficient, does not require too many computational resources, it’s highly interpretable, it doesn’t require input features to be scaled, it doesn’t require any tuning, it’s easy to regularize, and it outputs well-calibrated predicted probabilities."
   ]
  },
  {
   "cell_type": "markdown",
   "metadata": {},
   "source": [
    "#### Task 3\n",
    "\n",
    "Evaluate the performance of each of your three classification models when applied to data from the other two selected categories"
   ]
  },
  {
   "cell_type": "markdown",
   "metadata": {},
   "source": [
    "#### Train a classification model on the data from  Restaurant category"
   ]
  },
  {
   "cell_type": "code",
   "execution_count": 261,
   "metadata": {},
   "outputs": [],
   "source": [
    "# Splitting the dataset in training and testing dataset.\n",
    "\n",
    "X_resTrain, X_resTest,Y_resTrain, Y_resTest = train_test_split(resRevdf.iloc[:,:-1], resRevdf.iloc[:,-1], test_size = 0.3)\n",
    "\n",
    "# Logistic Regression Classifier.\n",
    "res_reg = LogisticRegression()\n",
    "\n",
    "# Fitting the model\n",
    "res_reg.fit(X_resTrain, Y_resTrain)\n",
    "\n",
    "Y_hotelTest = hotelRevdf.iloc[:,-1]\n",
    "Y_cafeTest = cafeRevdf.iloc[:,-1]\n"
   ]
  },
  {
   "cell_type": "markdown",
   "metadata": {},
   "source": [
    "#### Reshaping both Cafe and Hotel dataset as per the Restaurant dataset"
   ]
  },
  {
   "cell_type": "code",
   "execution_count": 262,
   "metadata": {},
   "outputs": [
    {
     "name": "stdout",
     "output_type": "stream",
     "text": [
      "(2000, 867)\n",
      "(2000, 867)\n",
      "(2000, 867)\n"
     ]
    }
   ],
   "source": [
    "tfidf_vectorizer = TfidfVectorizer(max_df=0.5,min_df=0.01,stop_words='english',use_idf=True)\n",
    "\n",
    "Res = tfidf_vectorizer.fit_transform(res_df['Reviews'])\n",
    "print(Res.shape)\n",
    "\n",
    "Hotel = tfidf_vectorizer.transform(hotel_df['Reviews'])\n",
    "print(Hotel.shape)\n",
    "\n",
    "Cafe = tfidf_vectorizer.transform(cafe_df['Reviews'])\n",
    "print(Cafe.shape)"
   ]
  },
  {
   "cell_type": "markdown",
   "metadata": {},
   "source": [
    "#### Evaluate Hotels on the model built on Restaurants"
   ]
  },
  {
   "cell_type": "code",
   "execution_count": 263,
   "metadata": {},
   "outputs": [
    {
     "name": "stdout",
     "output_type": "stream",
     "text": [
      "              precision    recall  f1-score   support\n",
      "\n",
      "    positive       0.75      0.87      0.81       824\n",
      "    negative       0.90      0.80      0.85      1176\n",
      "\n",
      "    accuracy                           0.83      2000\n",
      "   macro avg       0.83      0.84      0.83      2000\n",
      "weighted avg       0.84      0.83      0.83      2000\n",
      "\n"
     ]
    },
    {
     "data": {
      "image/png": "[encoded data removed]",
      "text/plain": [
       "<Figure size 432x288 with 1 Axes>"
      ]
     },
     "metadata": {},
     "output_type": "display_data"
    }
   ],
   "source": [
    "Y_hotel_pred = res_reg.predict(Hotel)\n",
    "#print(\"Hotel Review Accuracy = %.2f\" % accuracy_score(Y_hotelTest, Y_hotel_pred) )\n",
    "\n",
    "# Confusion matrix for the Hotels dataset\n",
    "cm = confusion_matrix(Y_hotelTest, Y_hotel_pred)\n",
    "print(classification_report(Y_hotelTest, Y_hotel_pred, target_names=[\"positive\",\"negative\"]))\n",
    "fig, ax = plt.subplots(figsize=(6,4))\n",
    "sn.heatmap(cm, annot=True, cbar = False, fmt = 'd', annot_kws= {'size':16}, cmap= 'Greens')\n",
    "sn.set(font_scale= 1.5)\n",
    "# Align the text in middle.\n",
    "bottom,top = ax.get_ylim()\n",
    "ax.set_ylim(bottom +0.5, top - 0.5)\n",
    "\n",
    "# Assign labels to X and Y axis.\n",
    "#xaxis ticks\n",
    "ax.xaxis.set_ticklabels([\"positive\",\"negative\"], fontsize=12)\n",
    "#yaxis ticks\n",
    "ax.yaxis.set_ticklabels([\"positive\",\"negative\"], fontsize=12)\n",
    "plt.ylabel('Actual')\n",
    "plt.xlabel('Predicted')\n",
    "plt.show()\n",
    "\n"
   ]
  },
  {
   "cell_type": "markdown",
   "metadata": {},
   "source": [
    "#### Evaluate Cafe on the model built on Restaurants"
   ]
  },
  {
   "cell_type": "code",
   "execution_count": 264,
   "metadata": {},
   "outputs": [
    {
     "name": "stdout",
     "output_type": "stream",
     "text": [
      "              precision    recall  f1-score   support\n",
      "\n",
      "    positive       0.76      0.74      0.75       538\n",
      "    negative       0.90      0.91      0.91      1462\n",
      "\n",
      "    accuracy                           0.87      2000\n",
      "   macro avg       0.83      0.83      0.83      2000\n",
      "weighted avg       0.87      0.87      0.87      2000\n",
      "\n"
     ]
    },
    {
     "data": {
      "image/png": "[encoded data removed]",
      "text/plain": [
       "<Figure size 432x288 with 1 Axes>"
      ]
     },
     "metadata": {},
     "output_type": "display_data"
    }
   ],
   "source": [
    "Y_cafe_pred = res_reg.predict(Cafe)\n",
    "#print(\"Cafe Review Accuracy = %.2f\" % accuracy_score(Y_cafeTest, Y_cafe_pred) )\n",
    "\n",
    "# Confusion matrix for the Cafe dataset\n",
    "cm = confusion_matrix(Y_cafeTest, Y_cafe_pred)\n",
    "print(classification_report(Y_cafeTest, Y_cafe_pred, target_names=[\"positive\",\"negative\"]))\n",
    "fig, ax = plt.subplots(figsize=(6,4))\n",
    "sn.heatmap(cm, annot=True, cbar = False, fmt = 'd', annot_kws= {'size':16}, cmap= 'Greens')\n",
    "sn.set(font_scale= 1.5)\n",
    "# Align the text in middle.\n",
    "bottom,top = ax.get_ylim()\n",
    "ax.set_ylim(bottom +0.5, top - 0.5)\n",
    "\n",
    "# Assign labels to X and Y axis.\n",
    "#xaxis ticks\n",
    "ax.xaxis.set_ticklabels([\"positive\",\"negative\"], fontsize=12)\n",
    "#yaxis ticks\n",
    "ax.yaxis.set_ticklabels([\"positive\",\"negative\"], fontsize=12)\n",
    "plt.ylabel('Actual')\n",
    "plt.xlabel('Predicted')\n",
    "plt.show()\n"
   ]
  },
  {
   "cell_type": "markdown",
   "metadata": {},
   "source": [
    "#### Train a classification model on the data from  Cafe category"
   ]
  },
  {
   "cell_type": "code",
   "execution_count": 274,
   "metadata": {},
   "outputs": [],
   "source": [
    "# Splitting the dataset in training and testing dataset.\n",
    "\n",
    "X_cafeTrain, X_cafeTest, Y_cafeTrain, Y_cafeTest = train_test_split(cafeRevdf.iloc[:,:-1], cafeRevdf.iloc[:,-1], test_size = 0.3)\n",
    "\n",
    "# Logistic Regression Classifier.\n",
    "cafe_reg = LogisticRegression()\n",
    "\n",
    "# Fitting the model\n",
    "cafe_reg.fit(X_cafeTrain, Y_cafeTrain)\n",
    "\n",
    "Y_hotelTest = hotelRevdf.iloc[:,-1]\n",
    "Y_resTest = resRevdf.iloc[:,-1]"
   ]
  },
  {
   "cell_type": "markdown",
   "metadata": {},
   "source": [
    "#### Reshaping both Restaurant and Hotel dataset as per the Cafe dataset"
   ]
  },
  {
   "cell_type": "code",
   "execution_count": 283,
   "metadata": {},
   "outputs": [
    {
     "name": "stdout",
     "output_type": "stream",
     "text": [
      "(2000, 859)\n",
      "(2000, 859)\n",
      "(2000, 859)\n"
     ]
    }
   ],
   "source": [
    "tfidf_vectorizer = TfidfVectorizer(max_df=0.5,min_df=0.01,stop_words='english',use_idf=True)\n",
    "\n",
    "Cafe = tfidf_vectorizer.fit_transform(cafe_df['Reviews'])\n",
    "print(Cafe.shape)\n",
    "\n",
    "Hotel = tfidf_vectorizer.transform(hotel_df['Reviews'])\n",
    "print(Hotel.shape)\n",
    "\n",
    "Res = tfidf_vectorizer.transform(res_df['Reviews'])\n",
    "print(Res.shape)"
   ]
  },
  {
   "cell_type": "markdown",
   "metadata": {},
   "source": [
    "#### Evaluate Hotels on the model built on Cafe"
   ]
  },
  {
   "cell_type": "code",
   "execution_count": 276,
   "metadata": {},
   "outputs": [
    {
     "name": "stdout",
     "output_type": "stream",
     "text": [
      "              precision    recall  f1-score   support\n",
      "\n",
      "    positive       0.91      0.58      0.71       824\n",
      "    negative       0.77      0.96      0.85      1176\n",
      "\n",
      "    accuracy                           0.80      2000\n",
      "   macro avg       0.84      0.77      0.78      2000\n",
      "weighted avg       0.82      0.80      0.79      2000\n",
      "\n"
     ]
    },
    {
     "data": {
      "image/png": "[encoded data removed]",
      "text/plain": [
       "<Figure size 432x288 with 1 Axes>"
      ]
     },
     "metadata": {},
     "output_type": "display_data"
    }
   ],
   "source": [
    "Y_hotel_pred = cafe_reg.predict(Hotel)\n",
    "\n",
    "# Confusion matrix for the Hotel dataset\n",
    "cm = confusion_matrix(Y_hotelTest, Y_hotel_pred)\n",
    "print(classification_report(Y_hotelTest, Y_hotel_pred, target_names=[\"positive\",\"negative\"]))\n",
    "fig, ax = plt.subplots(figsize=(6,4))\n",
    "sn.heatmap(cm, annot=True, cbar = False, fmt = 'd', annot_kws= {'size':16}, cmap= 'Greens')\n",
    "sn.set(font_scale= 1.5)\n",
    "# Align the text in middle.\n",
    "bottom,top = ax.get_ylim()\n",
    "ax.set_ylim(bottom +0.5, top - 0.5)\n",
    "\n",
    "# Assign labels to X and Y axis.\n",
    "#xaxis ticks\n",
    "ax.xaxis.set_ticklabels([\"positive\",\"negative\"], fontsize=12)\n",
    "#yaxis ticks\n",
    "ax.yaxis.set_ticklabels([\"positive\",\"negative\"], fontsize=12)\n",
    "plt.ylabel('Actual')\n",
    "plt.xlabel('Predicted')\n",
    "plt.show()\n",
    "\n"
   ]
  },
  {
   "cell_type": "markdown",
   "metadata": {},
   "source": [
    "#### Evaluate Restaurant on the model built on Cafe"
   ]
  },
  {
   "cell_type": "code",
   "execution_count": 277,
   "metadata": {},
   "outputs": [
    {
     "name": "stdout",
     "output_type": "stream",
     "text": [
      "              precision    recall  f1-score   support\n",
      "\n",
      "    positive       0.92      0.57      0.70       838\n",
      "    negative       0.76      0.97      0.85      1162\n",
      "\n",
      "    accuracy                           0.80      2000\n",
      "   macro avg       0.84      0.77      0.78      2000\n",
      "weighted avg       0.83      0.80      0.79      2000\n",
      "\n"
     ]
    },
    {
     "data": {
      "image/png": "[encoded data removed]",
      "text/plain": [
       "<Figure size 432x288 with 1 Axes>"
      ]
     },
     "metadata": {},
     "output_type": "display_data"
    }
   ],
   "source": [
    "Y_res_pred = cafe_reg.predict(Res)\n",
    "\n",
    "# Confusion matrix for the Restaurant dataset\n",
    "cm = confusion_matrix(Y_resTest, Y_res_pred)\n",
    "print(classification_report(Y_resTest, Y_res_pred, target_names=[\"positive\",\"negative\"]))\n",
    "fig, ax = plt.subplots(figsize=(6,4))\n",
    "sn.heatmap(cm, annot=True, cbar = False, fmt = 'd', annot_kws= {'size':16}, cmap= 'Greens')\n",
    "sn.set(font_scale= 1.5)\n",
    "# Align the text in middle.\n",
    "bottom,top = ax.get_ylim()\n",
    "ax.set_ylim(bottom +0.5, top - 0.5)\n",
    "\n",
    "# Assign labels to X and Y axis.\n",
    "#xaxis ticks\n",
    "ax.xaxis.set_ticklabels([\"positive\",\"negative\"], fontsize=12)\n",
    "#yaxis ticks\n",
    "ax.yaxis.set_ticklabels([\"positive\",\"negative\"], fontsize=12)\n",
    "plt.ylabel('Actual')\n",
    "plt.xlabel('Predicted')\n",
    "plt.show()\n"
   ]
  },
  {
   "cell_type": "markdown",
   "metadata": {},
   "source": [
    "#### Train a classification model on the data from  Restaurant category"
   ]
  },
  {
   "cell_type": "code",
   "execution_count": 285,
   "metadata": {},
   "outputs": [],
   "source": [
    "# Splitting the dataset in training and testing dataset.\n",
    "\n",
    "X_hotelTrain, X_hotelTest, Y_hotelTrain, Y_hotelTest = train_test_split(hotelRevdf.iloc[:,:-1], hotelRevdf.iloc[:,-1], test_size = 0.3)\n",
    "\n",
    "# Logistic Regression Classifier.\n",
    "hotel_reg = LogisticRegression()\n",
    "\n",
    "# Fitting the model\n",
    "hotel_reg.fit(X_hotelTrain, Y_hotelTrain)\n",
    "\n",
    "\n",
    "Y_cafeTest = cafeRevdf.iloc[:,-1]\n",
    "Y_resTest = resRevdf.iloc[:,-1]"
   ]
  },
  {
   "cell_type": "markdown",
   "metadata": {},
   "source": [
    "#### Reshaping both Restaurant and Cafe dataset as per the Hotel dataset"
   ]
  },
  {
   "cell_type": "code",
   "execution_count": 286,
   "metadata": {},
   "outputs": [
    {
     "name": "stdout",
     "output_type": "stream",
     "text": [
      "(2000, 1002)\n",
      "(2000, 1002)\n",
      "(2000, 1002)\n"
     ]
    }
   ],
   "source": [
    "tfidf_vectorizer = TfidfVectorizer(max_df=0.5,min_df=0.01,stop_words='english',use_idf=True)\n",
    "\n",
    "Hotel = tfidf_vectorizer.fit_transform(hotel_df['Reviews'])\n",
    "print(Hotel.shape)\n",
    "\n",
    "Cafe = tfidf_vectorizer.transform(cafe_df['Reviews'])\n",
    "print(Cafe.shape)\n",
    "\n",
    "Res = tfidf_vectorizer.transform(res_df['Reviews'])\n",
    "print(Res.shape)"
   ]
  },
  {
   "cell_type": "markdown",
   "metadata": {},
   "source": [
    "#### Evaluate Cafe on the model built on Hotels"
   ]
  },
  {
   "cell_type": "code",
   "execution_count": 287,
   "metadata": {},
   "outputs": [
    {
     "name": "stdout",
     "output_type": "stream",
     "text": [
      "              precision    recall  f1-score   support\n",
      "\n",
      "    positive       0.79      0.60      0.68       538\n",
      "    negative       0.87      0.94      0.90      1462\n",
      "\n",
      "    accuracy                           0.85      2000\n",
      "   macro avg       0.83      0.77      0.79      2000\n",
      "weighted avg       0.85      0.85      0.84      2000\n",
      "\n"
     ]
    },
    {
     "data": {
      "image/png": "[encoded data removed]",
      "text/plain": [
       "<Figure size 432x288 with 1 Axes>"
      ]
     },
     "metadata": {},
     "output_type": "display_data"
    }
   ],
   "source": [
    "\n",
    "Y_cafe_pred = hotel_reg.predict(Cafe)\n",
    "\n",
    "# Confusion matrix for the Cafe dataset\n",
    "cm = confusion_matrix(Y_cafeTest, Y_cafe_pred)\n",
    "print(classification_report(Y_cafeTest, Y_cafe_pred, target_names=[\"positive\",\"negative\"]))\n",
    "fig, ax = plt.subplots(figsize=(6,4))\n",
    "sn.heatmap(cm, annot=True, cbar = False, fmt = 'd', annot_kws= {'size':16}, cmap= 'Greens')\n",
    "sn.set(font_scale= 1.5)\n",
    "# Align the text in middle.\n",
    "bottom,top = ax.get_ylim()\n",
    "ax.set_ylim(bottom +0.5, top - 0.5)\n",
    "\n",
    "#xaxis ticks\n",
    "ax.xaxis.set_ticklabels([\"positive\",\"negative\"], fontsize=12)\n",
    "#yaxis ticks\n",
    "ax.yaxis.set_ticklabels([\"positive\",\"negative\"], fontsize=12)\n",
    "# Assign labels to X and Y axis.\n",
    "plt.ylabel('Actual')\n",
    "plt.xlabel('Predicted')\n",
    "plt.show()\n",
    "\n",
    "\n"
   ]
  },
  {
   "cell_type": "markdown",
   "metadata": {},
   "source": [
    "#### Evaluate Restaurant on the model built on Hotels"
   ]
  },
  {
   "cell_type": "code",
   "execution_count": 288,
   "metadata": {},
   "outputs": [
    {
     "name": "stdout",
     "output_type": "stream",
     "text": [
      "              precision    recall  f1-score   support\n",
      "\n",
      "    positive       0.85      0.66      0.74       838\n",
      "    negative       0.79      0.92      0.85      1162\n",
      "\n",
      "    accuracy                           0.81      2000\n",
      "   macro avg       0.82      0.79      0.80      2000\n",
      "weighted avg       0.82      0.81      0.81      2000\n",
      "\n"
     ]
    },
    {
     "data": {
      "image/png": "[encoded data removed]",
      "text/plain": [
       "<Figure size 432x288 with 1 Axes>"
      ]
     },
     "metadata": {},
     "output_type": "display_data"
    }
   ],
   "source": [
    "Y_res_pred = hotel_reg.predict(Res)\n",
    "\n",
    "# Confusion matrix for the Restaurant dataset\n",
    "cm = confusion_matrix(Y_resTest, Y_res_pred)\n",
    "print(classification_report(Y_resTest, Y_res_pred, target_names=[\"positive\",\"negative\"]))\n",
    "fig, ax = plt.subplots(figsize=(6,4))\n",
    "sn.heatmap(cm, annot=True, cbar = False, fmt = 'd', annot_kws= {'size':16}, cmap= 'Greens')\n",
    "sn.set(font_scale= 1.5)\n",
    "# Align the text in middle.\n",
    "bottom,top = ax.get_ylim()\n",
    "ax.set_ylim(bottom +0.5, top - 0.5)\n",
    "#xaxis ticks\n",
    "ax.xaxis.set_ticklabels([\"positive\",\"negative\"], fontsize=12)\n",
    "#yaxis ticks\n",
    "ax.yaxis.set_ticklabels([\"positive\",\"negative\"], fontsize=12)\n",
    "# Assign labels to X and Y axis.\n",
    "plt.ylabel('Actual')\n",
    "plt.xlabel('Predicted')\n",
    "plt.show()"
   ]
  },
  {
   "cell_type": "markdown",
   "metadata": {},
   "source": [
    "#### Conclusion for Task 3\n",
    "\n",
    "The accuracy for the following categories are discussed below:\n",
    "\n",
    "1. Restaurant model on \n",
    "a. Cafe dataset: The accuracy for the cafe dataset predicted on the Logistic regression model for restaurant dataset is 87%.  \n",
    "b. Hotel dataset: The accuracy for the hotel dataset predicted on the Logistic regression model for restaurant dataset is 83%.   \n",
    "2. Cafe model on\n",
    "a. Hotel dataset: The accuracy for the hotel dataset predicted on the Logistic regression model for restaurant dataset is 80%.\n",
    "b. Restaurant dataset: The accuracy for the hotel dataset predicted on the Logistic regression model for restaurant dataset is 80%.\n",
    "\n",
    "3. Hotel model on\n",
    "a. Cafe dataset: The accuracy for the hotel dataset predicted on the Logistic regression model for restaurant dataset is 85% \n",
    "b. Restaurant dataset: The accuracy for the hotel dataset predicted on the Logistic regression model for restaurant dataset is 81%.\n",
    "\n",
    "We can conclude from the above information is that all three models ran quite well on each other clearly illustrating that sentiments of consumer reviews or the words used in review comments of similar categories are similar and hence we got high accuracies."
   ]
  }
 ],
 "metadata": {
  "kernelspec": {
   "display_name": "Python 3",
   "language": "python",
   "name": "python3"
  },
  "language_info": {
   "codemirror_mode": {
    "name": "ipython",
    "version": 3
   },
   "file_extension": ".py",
   "mimetype": "text/x-python",
   "name": "python",
   "nbconvert_exporter": "python",
   "pygments_lexer": "ipython3",
   "version": "3.7.4"
  }
 },
 "nbformat": 4,
 "nbformat_minor": 2
}
